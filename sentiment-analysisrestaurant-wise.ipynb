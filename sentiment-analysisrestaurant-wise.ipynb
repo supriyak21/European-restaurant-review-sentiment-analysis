{
 "cells": [
  {
   "cell_type": "code",
   "execution_count": 3,
   "id": "4a41577f",
   "metadata": {
    "_cell_guid": "b1076dfc-b9ad-4769-8c92-a6c4dae69d19",
    "_uuid": "8f2839f25d086af736a60e9eeb907d3b93b6e0e5",
    "execution": {
     "iopub.execute_input": "2024-07-11T05:47:46.235599Z",
     "iopub.status.busy": "2024-07-11T05:47:46.235091Z",
     "iopub.status.idle": "2024-07-11T05:47:47.400333Z",
     "shell.execute_reply": "2024-07-11T05:47:47.398436Z"
    },
    "papermill": {
     "duration": 1.18045,
     "end_time": "2024-07-11T05:47:47.404109",
     "exception": false,
     "start_time": "2024-07-11T05:47:46.223659",
     "status": "completed"
    },
    "tags": []
   },
   "outputs": [
    {
     "ename": "ModuleNotFoundError",
     "evalue": "No module named 'numpy'",
     "output_type": "error",
     "traceback": [
      "\u001b[0;31m---------------------------------------------------------------------------\u001b[0m",
      "\u001b[0;31mModuleNotFoundError\u001b[0m                       Traceback (most recent call last)",
      "Cell \u001b[0;32mIn[3], line 5\u001b[0m\n\u001b[1;32m      1\u001b[0m \u001b[38;5;66;03m# This Python 3 environment comes with many helpful analytics libraries installed\u001b[39;00m\n\u001b[1;32m      2\u001b[0m \u001b[38;5;66;03m# It is defined by the kaggle/python Docker image: https://github.com/kaggle/docker-python\u001b[39;00m\n\u001b[1;32m      3\u001b[0m \u001b[38;5;66;03m# For example, here's several helpful packages to load\u001b[39;00m\n\u001b[0;32m----> 5\u001b[0m \u001b[38;5;28;01mimport\u001b[39;00m \u001b[38;5;21;01mnumpy\u001b[39;00m \u001b[38;5;28;01mas\u001b[39;00m \u001b[38;5;21;01mnp\u001b[39;00m \u001b[38;5;66;03m# linear algebra\u001b[39;00m\n\u001b[1;32m      6\u001b[0m \u001b[38;5;28;01mimport\u001b[39;00m \u001b[38;5;21;01mpandas\u001b[39;00m \u001b[38;5;28;01mas\u001b[39;00m \u001b[38;5;21;01mpd\u001b[39;00m \u001b[38;5;66;03m# data processing, CSV file I/O (e.g. pd.read_csv)\u001b[39;00m\n\u001b[1;32m      8\u001b[0m \u001b[38;5;66;03m# Input data files are available in the read-only \"../input/\" directory\u001b[39;00m\n\u001b[1;32m      9\u001b[0m \u001b[38;5;66;03m# For example, running this (by clicking run or pressing Shift+Enter) will list all files under the input directory\u001b[39;00m\n",
      "\u001b[0;31mModuleNotFoundError\u001b[0m: No module named 'numpy'"
     ]
    }
   ],
   "source": [
    "# This Python 3 environment comes with many helpful analytics libraries installed\n",
    "# It is defined by the kaggle/python Docker im\n",
    "import numpy as np # linear algebra\n",
    "import pandas as pd # data processing, CSV file I/O (e.g. pd.read_csv)\n",
    "\n",
    "# Input data files are available in the read-only \"../input/\" directory\n",
    "# For example, running this (by clicking run or pressing Shift+Enter) will list all files under the input directory\n",
    "\n",
    "import os\n",
    "for dirname, _, filenames in os.walk('/kaggle/input'):\n",
    "    for filename in filenames:\n",
    "        print(os.path.join(dirname, filename))\n",
    "\n",
    "# You can write up to 20GB to the current directory (/kaggle/working/) that gets preserved as output when you create a version using \"Save & Run All\" \n",
    "# You can also write temporary files to /kaggle/temp/, but they won't be saved outside of the current session"
   ]
  },
  {
   "cell_type": "code",
   "execution_count": 5,
   "id": "b3678570",
   "metadata": {},
   "outputs": [
    {
     "ename": "ModuleNotFoundError",
     "evalue": "No module named 'numpy'",
     "output_type": "error",
     "traceback": [
      "\u001b[0;31m---------------------------------------------------------------------------\u001b[0m",
      "\u001b[0;31mModuleNotFoundError\u001b[0m                       Traceback (most recent call last)",
      "Cell \u001b[0;32mIn[5], line 1\u001b[0m\n\u001b[0;32m----> 1\u001b[0m \u001b[38;5;28;01mimport\u001b[39;00m \u001b[38;5;21;01mnumpy\u001b[39;00m \u001b[38;5;28;01mas\u001b[39;00m \u001b[38;5;21;01mnp\u001b[39;00m\n\u001b[1;32m      2\u001b[0m \u001b[38;5;28;01mimport\u001b[39;00m \u001b[38;5;21;01mpandas\u001b[39;00m \u001b[38;5;28;01mas\u001b[39;00m \u001b[38;5;21;01mpd\u001b[39;00m\n",
      "\u001b[0;31mModuleNotFoundError\u001b[0m: No module named 'numpy'"
     ]
    }
   ],
   "source": [
    "import numpy as np\n",
    "import pandas as pd"
   ]
  },
  {
   "cell_type": "code",
   "execution_count": 4,
   "id": "c0961453",
   "metadata": {
    "execution": {
     "iopub.execute_input": "2024-07-11T05:47:47.425364Z",
     "iopub.status.busy": "2024-07-11T05:47:47.424684Z",
     "iopub.status.idle": "2024-07-11T05:47:47.483283Z",
     "shell.execute_reply": "2024-07-11T05:47:47.481715Z"
    },
    "papermill": {
     "duration": 0.072959,
     "end_time": "2024-07-11T05:47:47.486233",
     "exception": false,
     "start_time": "2024-07-11T05:47:47.413274",
     "status": "completed"
    },
    "tags": []
   },
   "outputs": [
    {
     "ename": "NameError",
     "evalue": "name 'pd' is not defined",
     "output_type": "error",
     "traceback": [
      "\u001b[0;31m---------------------------------------------------------------------------\u001b[0m",
      "\u001b[0;31mNameError\u001b[0m                                 Traceback (most recent call last)",
      "Cell \u001b[0;32mIn[4], line 1\u001b[0m\n\u001b[0;32m----> 1\u001b[0m df \u001b[38;5;241m=\u001b[39m \u001b[43mpd\u001b[49m\u001b[38;5;241m.\u001b[39mread_csv(\u001b[38;5;124m\"\u001b[39m\u001b[38;5;124m/kaggle/input/european-restaurant-reviews/European Restaurant Reviews.csv\u001b[39m\u001b[38;5;124m\"\u001b[39m)\n",
      "\u001b[0;31mNameError\u001b[0m: name 'pd' is not defined"
     ]
    }
   ],
   "source": [
    "df = pd.read_csv(\"/kaggle/input/european-restaurant-reviews/European Restaurant Reviews.csv\")"
   ]
  },
  {
   "cell_type": "code",
   "execution_count": null,
   "id": "2e7a0213",
   "metadata": {
    "execution": {
     "iopub.execute_input": "2024-07-11T05:47:47.508381Z",
     "iopub.status.busy": "2024-07-11T05:47:47.507956Z",
     "iopub.status.idle": "2024-07-11T05:47:47.537470Z",
     "shell.execute_reply": "2024-07-11T05:47:47.536170Z"
    },
    "papermill": {
     "duration": 0.044252,
     "end_time": "2024-07-11T05:47:47.540272",
     "exception": false,
     "start_time": "2024-07-11T05:47:47.496020",
     "status": "completed"
    },
    "tags": []
   },
   "outputs": [
    {
     "data": {
      "text/html": [
       "<div>\n",
       "<style scoped>\n",
       "    .dataframe tbody tr th:only-of-type {\n",
       "        vertical-align: middle;\n",
       "    }\n",
       "\n",
       "    .dataframe tbody tr th {\n",
       "        vertical-align: top;\n",
       "    }\n",
       "\n",
       "    .dataframe thead th {\n",
       "        text-align: right;\n",
       "    }\n",
       "</style>\n",
       "<table border=\"1\" class=\"dataframe\">\n",
       "  <thead>\n",
       "    <tr style=\"text-align: right;\">\n",
       "      <th></th>\n",
       "      <th>Country</th>\n",
       "      <th>Restaurant Name</th>\n",
       "      <th>Sentiment</th>\n",
       "      <th>Review Title</th>\n",
       "      <th>Review Date</th>\n",
       "      <th>Review</th>\n",
       "    </tr>\n",
       "  </thead>\n",
       "  <tbody>\n",
       "    <tr>\n",
       "      <th>0</th>\n",
       "      <td>France</td>\n",
       "      <td>The Frog at Bercy Village</td>\n",
       "      <td>Negative</td>\n",
       "      <td>Rude manager</td>\n",
       "      <td>May 2024 •</td>\n",
       "      <td>The manager became agressive when I said the c...</td>\n",
       "    </tr>\n",
       "    <tr>\n",
       "      <th>1</th>\n",
       "      <td>France</td>\n",
       "      <td>The Frog at Bercy Village</td>\n",
       "      <td>Negative</td>\n",
       "      <td>A big disappointment</td>\n",
       "      <td>Feb 2024 •</td>\n",
       "      <td>I ordered a beef fillet ask to be done medium,...</td>\n",
       "    </tr>\n",
       "    <tr>\n",
       "      <th>2</th>\n",
       "      <td>France</td>\n",
       "      <td>The Frog at Bercy Village</td>\n",
       "      <td>Negative</td>\n",
       "      <td>Pretty Place with Bland Food</td>\n",
       "      <td>Nov 2023 •</td>\n",
       "      <td>This is an attractive venue with welcoming, al...</td>\n",
       "    </tr>\n",
       "    <tr>\n",
       "      <th>3</th>\n",
       "      <td>France</td>\n",
       "      <td>The Frog at Bercy Village</td>\n",
       "      <td>Negative</td>\n",
       "      <td>Great service and wine but inedible food</td>\n",
       "      <td>Mar 2023 •</td>\n",
       "      <td>Sadly I  used the high TripAdvisor rating too ...</td>\n",
       "    </tr>\n",
       "    <tr>\n",
       "      <th>4</th>\n",
       "      <td>France</td>\n",
       "      <td>The Frog at Bercy Village</td>\n",
       "      <td>Negative</td>\n",
       "      <td>Avoid- Worst meal in Rome - possibly ever</td>\n",
       "      <td>Nov 2022 •</td>\n",
       "      <td>From the start this meal was bad- especially g...</td>\n",
       "    </tr>\n",
       "  </tbody>\n",
       "</table>\n",
       "</div>"
      ],
      "text/plain": [
       "  Country            Restaurant Name Sentiment  \\\n",
       "0  France  The Frog at Bercy Village  Negative   \n",
       "1  France  The Frog at Bercy Village  Negative   \n",
       "2  France  The Frog at Bercy Village  Negative   \n",
       "3  France  The Frog at Bercy Village  Negative   \n",
       "4  France  The Frog at Bercy Village  Negative   \n",
       "\n",
       "                                Review Title Review Date  \\\n",
       "0                               Rude manager  May 2024 •   \n",
       "1                       A big disappointment  Feb 2024 •   \n",
       "2               Pretty Place with Bland Food  Nov 2023 •   \n",
       "3   Great service and wine but inedible food  Mar 2023 •   \n",
       "4  Avoid- Worst meal in Rome - possibly ever  Nov 2022 •   \n",
       "\n",
       "                                              Review  \n",
       "0  The manager became agressive when I said the c...  \n",
       "1  I ordered a beef fillet ask to be done medium,...  \n",
       "2  This is an attractive venue with welcoming, al...  \n",
       "3  Sadly I  used the high TripAdvisor rating too ...  \n",
       "4  From the start this meal was bad- especially g...  "
      ]
     },
     "execution_count": 3,
     "metadata": {},
     "output_type": "execute_result"
    }
   ],
   "source": [
    "df.head()"
   ]
  },
  {
   "cell_type": "code",
   "execution_count": null,
   "id": "6ed04de7",
   "metadata": {
    "execution": {
     "iopub.execute_input": "2024-07-11T05:47:47.561279Z",
     "iopub.status.busy": "2024-07-11T05:47:47.560844Z",
     "iopub.status.idle": "2024-07-11T05:47:47.577051Z",
     "shell.execute_reply": "2024-07-11T05:47:47.575697Z"
    },
    "papermill": {
     "duration": 0.030363,
     "end_time": "2024-07-11T05:47:47.579867",
     "exception": false,
     "start_time": "2024-07-11T05:47:47.549504",
     "status": "completed"
    },
    "tags": []
   },
   "outputs": [
    {
     "data": {
      "text/html": [
       "<div>\n",
       "<style scoped>\n",
       "    .dataframe tbody tr th:only-of-type {\n",
       "        vertical-align: middle;\n",
       "    }\n",
       "\n",
       "    .dataframe tbody tr th {\n",
       "        vertical-align: top;\n",
       "    }\n",
       "\n",
       "    .dataframe thead th {\n",
       "        text-align: right;\n",
       "    }\n",
       "</style>\n",
       "<table border=\"1\" class=\"dataframe\">\n",
       "  <thead>\n",
       "    <tr style=\"text-align: right;\">\n",
       "      <th></th>\n",
       "      <th>Country</th>\n",
       "      <th>Restaurant Name</th>\n",
       "      <th>Sentiment</th>\n",
       "      <th>Review Title</th>\n",
       "      <th>Review Date</th>\n",
       "      <th>Review</th>\n",
       "    </tr>\n",
       "  </thead>\n",
       "  <tbody>\n",
       "    <tr>\n",
       "      <th>1497</th>\n",
       "      <td>Cuba</td>\n",
       "      <td>Old Square (Plaza Vieja)</td>\n",
       "      <td>Negative</td>\n",
       "      <td>The Tourism Trap</td>\n",
       "      <td>Oct 2016 •</td>\n",
       "      <td>Despite the other reviews saying that this is ...</td>\n",
       "    </tr>\n",
       "    <tr>\n",
       "      <th>1498</th>\n",
       "      <td>Cuba</td>\n",
       "      <td>Old Square (Plaza Vieja)</td>\n",
       "      <td>Negative</td>\n",
       "      <td>the beer factory</td>\n",
       "      <td>Oct 2016 •</td>\n",
       "      <td>beer is good.  food is awfull  The only decent...</td>\n",
       "    </tr>\n",
       "    <tr>\n",
       "      <th>1499</th>\n",
       "      <td>Cuba</td>\n",
       "      <td>Old Square (Plaza Vieja)</td>\n",
       "      <td>Negative</td>\n",
       "      <td>brewery</td>\n",
       "      <td>Oct 2016 •</td>\n",
       "      <td>for terrible service of a truly comedic level,...</td>\n",
       "    </tr>\n",
       "    <tr>\n",
       "      <th>1500</th>\n",
       "      <td>Cuba</td>\n",
       "      <td>Old Square (Plaza Vieja)</td>\n",
       "      <td>Negative</td>\n",
       "      <td>It's nothing exciting over there</td>\n",
       "      <td>Oct 2016 •</td>\n",
       "      <td>We visited the Havana's Club Museum which is l...</td>\n",
       "    </tr>\n",
       "    <tr>\n",
       "      <th>1501</th>\n",
       "      <td>Cuba</td>\n",
       "      <td>Old Square (Plaza Vieja)</td>\n",
       "      <td>Negative</td>\n",
       "      <td>Tourist Trap</td>\n",
       "      <td>Oct 2016 •</td>\n",
       "      <td>Food and service was awful. Very pretty stop. ...</td>\n",
       "    </tr>\n",
       "  </tbody>\n",
       "</table>\n",
       "</div>"
      ],
      "text/plain": [
       "     Country           Restaurant Name Sentiment  \\\n",
       "1497    Cuba  Old Square (Plaza Vieja)  Negative   \n",
       "1498    Cuba  Old Square (Plaza Vieja)  Negative   \n",
       "1499    Cuba  Old Square (Plaza Vieja)  Negative   \n",
       "1500    Cuba  Old Square (Plaza Vieja)  Negative   \n",
       "1501    Cuba  Old Square (Plaza Vieja)  Negative   \n",
       "\n",
       "                          Review Title Review Date  \\\n",
       "1497                  The Tourism Trap  Oct 2016 •   \n",
       "1498                  the beer factory  Oct 2016 •   \n",
       "1499                           brewery  Oct 2016 •   \n",
       "1500  It's nothing exciting over there  Oct 2016 •   \n",
       "1501                      Tourist Trap  Oct 2016 •   \n",
       "\n",
       "                                                 Review  \n",
       "1497  Despite the other reviews saying that this is ...  \n",
       "1498  beer is good.  food is awfull  The only decent...  \n",
       "1499  for terrible service of a truly comedic level,...  \n",
       "1500  We visited the Havana's Club Museum which is l...  \n",
       "1501  Food and service was awful. Very pretty stop. ...  "
      ]
     },
     "execution_count": 4,
     "metadata": {},
     "output_type": "execute_result"
    }
   ],
   "source": [
    "df.tail()"
   ]
  },
  {
   "cell_type": "code",
   "execution_count": null,
   "id": "d8ba4f1e",
   "metadata": {
    "execution": {
     "iopub.execute_input": "2024-07-11T05:47:47.601287Z",
     "iopub.status.busy": "2024-07-11T05:47:47.600889Z",
     "iopub.status.idle": "2024-07-11T05:47:47.631686Z",
     "shell.execute_reply": "2024-07-11T05:47:47.630040Z"
    },
    "papermill": {
     "duration": 0.045142,
     "end_time": "2024-07-11T05:47:47.634734",
     "exception": false,
     "start_time": "2024-07-11T05:47:47.589592",
     "status": "completed"
    },
    "tags": []
   },
   "outputs": [
    {
     "name": "stdout",
     "output_type": "stream",
     "text": [
      "<class 'pandas.core.frame.DataFrame'>\n",
      "RangeIndex: 1502 entries, 0 to 1501\n",
      "Data columns (total 6 columns):\n",
      " #   Column           Non-Null Count  Dtype \n",
      "---  ------           --------------  ----- \n",
      " 0   Country          1502 non-null   object\n",
      " 1   Restaurant Name  1502 non-null   object\n",
      " 2   Sentiment        1502 non-null   object\n",
      " 3   Review Title     1502 non-null   object\n",
      " 4   Review Date      1502 non-null   object\n",
      " 5   Review           1502 non-null   object\n",
      "dtypes: object(6)\n",
      "memory usage: 70.5+ KB\n"
     ]
    }
   ],
   "source": [
    "df.info()"
   ]
  },
  {
   "cell_type": "code",
   "execution_count": null,
   "id": "1fd21a5d",
   "metadata": {
    "execution": {
     "iopub.execute_input": "2024-07-11T05:47:47.656851Z",
     "iopub.status.busy": "2024-07-11T05:47:47.656394Z",
     "iopub.status.idle": "2024-07-11T05:47:47.687344Z",
     "shell.execute_reply": "2024-07-11T05:47:47.686034Z"
    },
    "papermill": {
     "duration": 0.0452,
     "end_time": "2024-07-11T05:47:47.690158",
     "exception": false,
     "start_time": "2024-07-11T05:47:47.644958",
     "status": "completed"
    },
    "tags": []
   },
   "outputs": [
    {
     "data": {
      "text/html": [
       "<div>\n",
       "<style scoped>\n",
       "    .dataframe tbody tr th:only-of-type {\n",
       "        vertical-align: middle;\n",
       "    }\n",
       "\n",
       "    .dataframe tbody tr th {\n",
       "        vertical-align: top;\n",
       "    }\n",
       "\n",
       "    .dataframe thead th {\n",
       "        text-align: right;\n",
       "    }\n",
       "</style>\n",
       "<table border=\"1\" class=\"dataframe\">\n",
       "  <thead>\n",
       "    <tr style=\"text-align: right;\">\n",
       "      <th></th>\n",
       "      <th>Country</th>\n",
       "      <th>Restaurant Name</th>\n",
       "      <th>Sentiment</th>\n",
       "      <th>Review Title</th>\n",
       "      <th>Review Date</th>\n",
       "      <th>Review</th>\n",
       "    </tr>\n",
       "  </thead>\n",
       "  <tbody>\n",
       "    <tr>\n",
       "      <th>count</th>\n",
       "      <td>1502</td>\n",
       "      <td>1502</td>\n",
       "      <td>1502</td>\n",
       "      <td>1502</td>\n",
       "      <td>1502</td>\n",
       "      <td>1502</td>\n",
       "    </tr>\n",
       "    <tr>\n",
       "      <th>unique</th>\n",
       "      <td>7</td>\n",
       "      <td>7</td>\n",
       "      <td>2</td>\n",
       "      <td>1343</td>\n",
       "      <td>143</td>\n",
       "      <td>1426</td>\n",
       "    </tr>\n",
       "    <tr>\n",
       "      <th>top</th>\n",
       "      <td>France</td>\n",
       "      <td>The Frog at Bercy Village</td>\n",
       "      <td>Positive</td>\n",
       "      <td>Excellent</td>\n",
       "      <td>May 2014 •</td>\n",
       "      <td>I'm afraid we were very let down by this resta...</td>\n",
       "    </tr>\n",
       "    <tr>\n",
       "      <th>freq</th>\n",
       "      <td>512</td>\n",
       "      <td>512</td>\n",
       "      <td>1237</td>\n",
       "      <td>9</td>\n",
       "      <td>108</td>\n",
       "      <td>4</td>\n",
       "    </tr>\n",
       "  </tbody>\n",
       "</table>\n",
       "</div>"
      ],
      "text/plain": [
       "       Country            Restaurant Name Sentiment Review Title Review Date  \\\n",
       "count     1502                       1502      1502         1502        1502   \n",
       "unique       7                          7         2         1343         143   \n",
       "top     France  The Frog at Bercy Village  Positive    Excellent  May 2014 •   \n",
       "freq       512                        512      1237            9         108   \n",
       "\n",
       "                                                   Review  \n",
       "count                                                1502  \n",
       "unique                                               1426  \n",
       "top     I'm afraid we were very let down by this resta...  \n",
       "freq                                                    4  "
      ]
     },
     "execution_count": 6,
     "metadata": {},
     "output_type": "execute_result"
    }
   ],
   "source": [
    "df.describe()"
   ]
  },
  {
   "cell_type": "code",
   "execution_count": null,
   "id": "2445454c",
   "metadata": {
    "execution": {
     "iopub.execute_input": "2024-07-11T05:47:47.713605Z",
     "iopub.status.busy": "2024-07-11T05:47:47.713187Z",
     "iopub.status.idle": "2024-07-11T05:47:47.724959Z",
     "shell.execute_reply": "2024-07-11T05:47:47.723272Z"
    },
    "papermill": {
     "duration": 0.02722,
     "end_time": "2024-07-11T05:47:47.728003",
     "exception": false,
     "start_time": "2024-07-11T05:47:47.700783",
     "status": "completed"
    },
    "tags": []
   },
   "outputs": [
    {
     "data": {
      "text/plain": [
       "Country            0\n",
       "Restaurant Name    0\n",
       "Sentiment          0\n",
       "Review Title       0\n",
       "Review Date        0\n",
       "Review             0\n",
       "dtype: int64"
      ]
     },
     "execution_count": 7,
     "metadata": {},
     "output_type": "execute_result"
    }
   ],
   "source": [
    "df.isnull().sum()"
   ]
  },
  {
   "cell_type": "code",
   "execution_count": null,
   "id": "8bfa38eb",
   "metadata": {
    "execution": {
     "iopub.execute_input": "2024-07-11T05:47:47.753410Z",
     "iopub.status.busy": "2024-07-11T05:47:47.752990Z",
     "iopub.status.idle": "2024-07-11T05:47:47.775599Z",
     "shell.execute_reply": "2024-07-11T05:47:47.773978Z"
    },
    "papermill": {
     "duration": 0.03873,
     "end_time": "2024-07-11T05:47:47.778615",
     "exception": false,
     "start_time": "2024-07-11T05:47:47.739885",
     "status": "completed"
    },
    "tags": []
   },
   "outputs": [
    {
     "data": {
      "text/html": [
       "<div>\n",
       "<style scoped>\n",
       "    .dataframe tbody tr th:only-of-type {\n",
       "        vertical-align: middle;\n",
       "    }\n",
       "\n",
       "    .dataframe tbody tr th {\n",
       "        vertical-align: top;\n",
       "    }\n",
       "\n",
       "    .dataframe thead th {\n",
       "        text-align: right;\n",
       "    }\n",
       "</style>\n",
       "<table border=\"1\" class=\"dataframe\">\n",
       "  <thead>\n",
       "    <tr style=\"text-align: right;\">\n",
       "      <th></th>\n",
       "      <th>Country</th>\n",
       "      <th>Restaurant Name</th>\n",
       "      <th>Sentiment</th>\n",
       "      <th>Review Title</th>\n",
       "      <th>Review Date</th>\n",
       "      <th>Review</th>\n",
       "    </tr>\n",
       "  </thead>\n",
       "  <tbody>\n",
       "    <tr>\n",
       "      <th>992</th>\n",
       "      <td>India</td>\n",
       "      <td>Mosaic</td>\n",
       "      <td>Positive</td>\n",
       "      <td>Diner and breakfast with my colleagues</td>\n",
       "      <td>Jun 2024 •</td>\n",
       "      <td>I liked the diner it was very delicious and al...</td>\n",
       "    </tr>\n",
       "    <tr>\n",
       "      <th>725</th>\n",
       "      <td>Italy</td>\n",
       "      <td>Ad Hoc Ristorante (Piazza del Popolo)</td>\n",
       "      <td>Positive</td>\n",
       "      <td>Lovely!</td>\n",
       "      <td>Apr 2019 •</td>\n",
       "      <td>I don't know how we managed to miss this on pr...</td>\n",
       "    </tr>\n",
       "    <tr>\n",
       "      <th>116</th>\n",
       "      <td>France</td>\n",
       "      <td>The Frog at Bercy Village</td>\n",
       "      <td>Negative</td>\n",
       "      <td>A boring four and a half hours that could have...</td>\n",
       "      <td>Oct 2011 •</td>\n",
       "      <td>We arrived at 08.15 with table booked for 08.3...</td>\n",
       "    </tr>\n",
       "    <tr>\n",
       "      <th>792</th>\n",
       "      <td>Italy</td>\n",
       "      <td>Ad Hoc Ristorante (Piazza del Popolo)</td>\n",
       "      <td>Positive</td>\n",
       "      <td>Amazing dinner</td>\n",
       "      <td>Nov 2018 •</td>\n",
       "      <td>My wife and I visited \"Ad hoc\" in November 201...</td>\n",
       "    </tr>\n",
       "    <tr>\n",
       "      <th>1362</th>\n",
       "      <td>Cuba</td>\n",
       "      <td>Old Square (Plaza Vieja)</td>\n",
       "      <td>Positive</td>\n",
       "      <td>Nice Square</td>\n",
       "      <td>May 2014 •</td>\n",
       "      <td>Nice place, many choices for lunch or dinner. ...</td>\n",
       "    </tr>\n",
       "  </tbody>\n",
       "</table>\n",
       "</div>"
      ],
      "text/plain": [
       "     Country                        Restaurant Name Sentiment  \\\n",
       "992    India                                 Mosaic  Positive   \n",
       "725    Italy  Ad Hoc Ristorante (Piazza del Popolo)  Positive   \n",
       "116   France              The Frog at Bercy Village  Negative   \n",
       "792    Italy  Ad Hoc Ristorante (Piazza del Popolo)  Positive   \n",
       "1362    Cuba               Old Square (Plaza Vieja)  Positive   \n",
       "\n",
       "                                           Review Title Review Date  \\\n",
       "992              Diner and breakfast with my colleagues  Jun 2024 •   \n",
       "725                                             Lovely!  Apr 2019 •   \n",
       "116   A boring four and a half hours that could have...  Oct 2011 •   \n",
       "792                                      Amazing dinner  Nov 2018 •   \n",
       "1362                                        Nice Square  May 2014 •   \n",
       "\n",
       "                                                 Review  \n",
       "992   I liked the diner it was very delicious and al...  \n",
       "725   I don't know how we managed to miss this on pr...  \n",
       "116   We arrived at 08.15 with table booked for 08.3...  \n",
       "792   My wife and I visited \"Ad hoc\" in November 201...  \n",
       "1362  Nice place, many choices for lunch or dinner. ...  "
      ]
     },
     "execution_count": 8,
     "metadata": {},
     "output_type": "execute_result"
    }
   ],
   "source": [
    "df.sample(5)"
   ]
  },
  {
   "cell_type": "code",
   "execution_count": null,
   "id": "cc31b7b3",
   "metadata": {
    "execution": {
     "iopub.execute_input": "2024-07-11T05:47:47.803363Z",
     "iopub.status.busy": "2024-07-11T05:47:47.802097Z",
     "iopub.status.idle": "2024-07-11T05:47:50.413725Z",
     "shell.execute_reply": "2024-07-11T05:47:50.412196Z"
    },
    "papermill": {
     "duration": 2.627231,
     "end_time": "2024-07-11T05:47:50.416793",
     "exception": false,
     "start_time": "2024-07-11T05:47:47.789562",
     "status": "completed"
    },
    "tags": []
   },
   "outputs": [],
   "source": [
    "import numpy as np\n",
    "import pandas as pd\n",
    "import matplotlib.pyplot as plt\n",
    "import seaborn as sns\n",
    "import plotly.express as px\n",
    "sns.set_theme(style=\"darkgrid\")\n",
    "import warnings\n",
    "warnings.filterwarnings('ignore')"
   ]
  },
  {
   "cell_type": "code",
   "execution_count": null,
   "id": "a3c12474",
   "metadata": {
    "execution": {
     "iopub.execute_input": "2024-07-11T05:47:50.441940Z",
     "iopub.status.busy": "2024-07-11T05:47:50.441485Z",
     "iopub.status.idle": "2024-07-11T05:47:50.453657Z",
     "shell.execute_reply": "2024-07-11T05:47:50.452293Z"
    },
    "papermill": {
     "duration": 0.02805,
     "end_time": "2024-07-11T05:47:50.456545",
     "exception": false,
     "start_time": "2024-07-11T05:47:50.428495",
     "status": "completed"
    },
    "tags": []
   },
   "outputs": [],
   "source": [
    "country_countwise = df[['Country']].value_counts().sort_values(ascending=False)"
   ]
  },
  {
   "cell_type": "code",
   "execution_count": null,
   "id": "7d8cd013",
   "metadata": {
    "execution": {
     "iopub.execute_input": "2024-07-11T05:47:50.481802Z",
     "iopub.status.busy": "2024-07-11T05:47:50.480949Z",
     "iopub.status.idle": "2024-07-11T05:47:50.494216Z",
     "shell.execute_reply": "2024-07-11T05:47:50.492984Z"
    },
    "papermill": {
     "duration": 0.028367,
     "end_time": "2024-07-11T05:47:50.497024",
     "exception": false,
     "start_time": "2024-07-11T05:47:50.468657",
     "status": "completed"
    },
    "tags": []
   },
   "outputs": [
    {
     "data": {
      "text/html": [
       "<div>\n",
       "<style scoped>\n",
       "    .dataframe tbody tr th:only-of-type {\n",
       "        vertical-align: middle;\n",
       "    }\n",
       "\n",
       "    .dataframe tbody tr th {\n",
       "        vertical-align: top;\n",
       "    }\n",
       "\n",
       "    .dataframe thead th {\n",
       "        text-align: right;\n",
       "    }\n",
       "</style>\n",
       "<table border=\"1\" class=\"dataframe\">\n",
       "  <thead>\n",
       "    <tr style=\"text-align: right;\">\n",
       "      <th></th>\n",
       "      <th>Country</th>\n",
       "      <th>count</th>\n",
       "    </tr>\n",
       "  </thead>\n",
       "  <tbody>\n",
       "    <tr>\n",
       "      <th>0</th>\n",
       "      <td>France</td>\n",
       "      <td>512</td>\n",
       "    </tr>\n",
       "    <tr>\n",
       "      <th>1</th>\n",
       "      <td>Italy</td>\n",
       "      <td>318</td>\n",
       "    </tr>\n",
       "    <tr>\n",
       "      <th>2</th>\n",
       "      <td>Morroco</td>\n",
       "      <td>210</td>\n",
       "    </tr>\n",
       "    <tr>\n",
       "      <th>3</th>\n",
       "      <td>Cuba</td>\n",
       "      <td>146</td>\n",
       "    </tr>\n",
       "    <tr>\n",
       "      <th>4</th>\n",
       "      <td>Poland</td>\n",
       "      <td>135</td>\n",
       "    </tr>\n",
       "    <tr>\n",
       "      <th>5</th>\n",
       "      <td>Russia</td>\n",
       "      <td>100</td>\n",
       "    </tr>\n",
       "    <tr>\n",
       "      <th>6</th>\n",
       "      <td>India</td>\n",
       "      <td>81</td>\n",
       "    </tr>\n",
       "  </tbody>\n",
       "</table>\n",
       "</div>"
      ],
      "text/plain": [
       "   Country  count\n",
       "0   France    512\n",
       "1    Italy    318\n",
       "2  Morroco    210\n",
       "3     Cuba    146\n",
       "4   Poland    135\n",
       "5   Russia    100\n",
       "6    India     81"
      ]
     },
     "execution_count": 11,
     "metadata": {},
     "output_type": "execute_result"
    }
   ],
   "source": [
    "df_country_countwise= country_countwise.reset_index()\n",
    "df_country_countwise"
   ]
  },
  {
   "cell_type": "code",
   "execution_count": null,
   "id": "4a0c119e",
   "metadata": {
    "execution": {
     "iopub.execute_input": "2024-07-11T05:47:50.522007Z",
     "iopub.status.busy": "2024-07-11T05:47:50.521573Z",
     "iopub.status.idle": "2024-07-11T05:47:52.586967Z",
     "shell.execute_reply": "2024-07-11T05:47:52.585776Z"
    },
    "papermill": {
     "duration": 2.081445,
     "end_time": "2024-07-11T05:47:52.589847",
     "exception": false,
     "start_time": "2024-07-11T05:47:50.508402",
     "status": "completed"
    },
    "tags": []
   },
   "outputs": [
    {
     "data": {
      "text/html": [
       "        <script type=\"text/javascript\">\n",
       "        window.PlotlyConfig = {MathJaxConfig: 'local'};\n",
       "        if (window.MathJax && window.MathJax.Hub && window.MathJax.Hub.Config) {window.MathJax.Hub.Config({SVG: {font: \"STIX-Web\"}});}\n",
       "        if (typeof require !== 'undefined') {\n",
       "        require.undef(\"plotly\");\n",
       "        requirejs.config({\n",
       "            paths: {\n",
       "                'plotly': ['https://cdn.plot.ly/plotly-2.27.0.min']\n",
       "            }\n",
       "        });\n",
       "        require(['plotly'], function(Plotly) {\n",
       "            window._Plotly = Plotly;\n",
       "        });\n",
       "        }\n",
       "        </script>\n",
       "        "
      ]
     },
     "metadata": {},
     "output_type": "display_data"
    },
    {
     "data": {
      "text/html": [
       "<div>                            <div id=\"18e25b20-6d43-4954-9b3e-2604b198a6e8\" class=\"plotly-graph-div\" style=\"height:525px; width:100%;\"></div>            <script type=\"text/javascript\">                require([\"plotly\"], function(Plotly) {                    window.PLOTLYENV=window.PLOTLYENV || {};                                    if (document.getElementById(\"18e25b20-6d43-4954-9b3e-2604b198a6e8\")) {                    Plotly.newPlot(                        \"18e25b20-6d43-4954-9b3e-2604b198a6e8\",                        [{\"alignmentgroup\":\"True\",\"hovertemplate\":\"Country=%{x}\\u003cbr\\u003ecount=%{y}\\u003cextra\\u003e\\u003c\\u002fextra\\u003e\",\"legendgroup\":\"France\",\"marker\":{\"color\":\"#636efa\",\"pattern\":{\"shape\":\"\"}},\"name\":\"France\",\"offsetgroup\":\"France\",\"orientation\":\"v\",\"showlegend\":true,\"textposition\":\"auto\",\"x\":[\"France\"],\"xaxis\":\"x\",\"y\":[512],\"yaxis\":\"y\",\"type\":\"bar\"},{\"alignmentgroup\":\"True\",\"hovertemplate\":\"Country=%{x}\\u003cbr\\u003ecount=%{y}\\u003cextra\\u003e\\u003c\\u002fextra\\u003e\",\"legendgroup\":\"Italy\",\"marker\":{\"color\":\"#EF553B\",\"pattern\":{\"shape\":\"\"}},\"name\":\"Italy\",\"offsetgroup\":\"Italy\",\"orientation\":\"v\",\"showlegend\":true,\"textposition\":\"auto\",\"x\":[\"Italy\"],\"xaxis\":\"x\",\"y\":[318],\"yaxis\":\"y\",\"type\":\"bar\"},{\"alignmentgroup\":\"True\",\"hovertemplate\":\"Country=%{x}\\u003cbr\\u003ecount=%{y}\\u003cextra\\u003e\\u003c\\u002fextra\\u003e\",\"legendgroup\":\"Morroco\",\"marker\":{\"color\":\"#00cc96\",\"pattern\":{\"shape\":\"\"}},\"name\":\"Morroco\",\"offsetgroup\":\"Morroco\",\"orientation\":\"v\",\"showlegend\":true,\"textposition\":\"auto\",\"x\":[\"Morroco\"],\"xaxis\":\"x\",\"y\":[210],\"yaxis\":\"y\",\"type\":\"bar\"},{\"alignmentgroup\":\"True\",\"hovertemplate\":\"Country=%{x}\\u003cbr\\u003ecount=%{y}\\u003cextra\\u003e\\u003c\\u002fextra\\u003e\",\"legendgroup\":\"Cuba\",\"marker\":{\"color\":\"#ab63fa\",\"pattern\":{\"shape\":\"\"}},\"name\":\"Cuba\",\"offsetgroup\":\"Cuba\",\"orientation\":\"v\",\"showlegend\":true,\"textposition\":\"auto\",\"x\":[\"Cuba\"],\"xaxis\":\"x\",\"y\":[146],\"yaxis\":\"y\",\"type\":\"bar\"},{\"alignmentgroup\":\"True\",\"hovertemplate\":\"Country=%{x}\\u003cbr\\u003ecount=%{y}\\u003cextra\\u003e\\u003c\\u002fextra\\u003e\",\"legendgroup\":\"Poland\",\"marker\":{\"color\":\"#FFA15A\",\"pattern\":{\"shape\":\"\"}},\"name\":\"Poland\",\"offsetgroup\":\"Poland\",\"orientation\":\"v\",\"showlegend\":true,\"textposition\":\"auto\",\"x\":[\"Poland\"],\"xaxis\":\"x\",\"y\":[135],\"yaxis\":\"y\",\"type\":\"bar\"},{\"alignmentgroup\":\"True\",\"hovertemplate\":\"Country=%{x}\\u003cbr\\u003ecount=%{y}\\u003cextra\\u003e\\u003c\\u002fextra\\u003e\",\"legendgroup\":\"Russia\",\"marker\":{\"color\":\"#19d3f3\",\"pattern\":{\"shape\":\"\"}},\"name\":\"Russia\",\"offsetgroup\":\"Russia\",\"orientation\":\"v\",\"showlegend\":true,\"textposition\":\"auto\",\"x\":[\"Russia\"],\"xaxis\":\"x\",\"y\":[100],\"yaxis\":\"y\",\"type\":\"bar\"},{\"alignmentgroup\":\"True\",\"hovertemplate\":\"Country=%{x}\\u003cbr\\u003ecount=%{y}\\u003cextra\\u003e\\u003c\\u002fextra\\u003e\",\"legendgroup\":\"India\",\"marker\":{\"color\":\"#FF6692\",\"pattern\":{\"shape\":\"\"}},\"name\":\"India\",\"offsetgroup\":\"India\",\"orientation\":\"v\",\"showlegend\":true,\"textposition\":\"auto\",\"x\":[\"India\"],\"xaxis\":\"x\",\"y\":[81],\"yaxis\":\"y\",\"type\":\"bar\"}],                        {\"template\":{\"data\":{\"histogram2dcontour\":[{\"type\":\"histogram2dcontour\",\"colorbar\":{\"outlinewidth\":0,\"ticks\":\"\"},\"colorscale\":[[0.0,\"#0d0887\"],[0.1111111111111111,\"#46039f\"],[0.2222222222222222,\"#7201a8\"],[0.3333333333333333,\"#9c179e\"],[0.4444444444444444,\"#bd3786\"],[0.5555555555555556,\"#d8576b\"],[0.6666666666666666,\"#ed7953\"],[0.7777777777777778,\"#fb9f3a\"],[0.8888888888888888,\"#fdca26\"],[1.0,\"#f0f921\"]]}],\"choropleth\":[{\"type\":\"choropleth\",\"colorbar\":{\"outlinewidth\":0,\"ticks\":\"\"}}],\"histogram2d\":[{\"type\":\"histogram2d\",\"colorbar\":{\"outlinewidth\":0,\"ticks\":\"\"},\"colorscale\":[[0.0,\"#0d0887\"],[0.1111111111111111,\"#46039f\"],[0.2222222222222222,\"#7201a8\"],[0.3333333333333333,\"#9c179e\"],[0.4444444444444444,\"#bd3786\"],[0.5555555555555556,\"#d8576b\"],[0.6666666666666666,\"#ed7953\"],[0.7777777777777778,\"#fb9f3a\"],[0.8888888888888888,\"#fdca26\"],[1.0,\"#f0f921\"]]}],\"heatmap\":[{\"type\":\"heatmap\",\"colorbar\":{\"outlinewidth\":0,\"ticks\":\"\"},\"colorscale\":[[0.0,\"#0d0887\"],[0.1111111111111111,\"#46039f\"],[0.2222222222222222,\"#7201a8\"],[0.3333333333333333,\"#9c179e\"],[0.4444444444444444,\"#bd3786\"],[0.5555555555555556,\"#d8576b\"],[0.6666666666666666,\"#ed7953\"],[0.7777777777777778,\"#fb9f3a\"],[0.8888888888888888,\"#fdca26\"],[1.0,\"#f0f921\"]]}],\"heatmapgl\":[{\"type\":\"heatmapgl\",\"colorbar\":{\"outlinewidth\":0,\"ticks\":\"\"},\"colorscale\":[[0.0,\"#0d0887\"],[0.1111111111111111,\"#46039f\"],[0.2222222222222222,\"#7201a8\"],[0.3333333333333333,\"#9c179e\"],[0.4444444444444444,\"#bd3786\"],[0.5555555555555556,\"#d8576b\"],[0.6666666666666666,\"#ed7953\"],[0.7777777777777778,\"#fb9f3a\"],[0.8888888888888888,\"#fdca26\"],[1.0,\"#f0f921\"]]}],\"contourcarpet\":[{\"type\":\"contourcarpet\",\"colorbar\":{\"outlinewidth\":0,\"ticks\":\"\"}}],\"contour\":[{\"type\":\"contour\",\"colorbar\":{\"outlinewidth\":0,\"ticks\":\"\"},\"colorscale\":[[0.0,\"#0d0887\"],[0.1111111111111111,\"#46039f\"],[0.2222222222222222,\"#7201a8\"],[0.3333333333333333,\"#9c179e\"],[0.4444444444444444,\"#bd3786\"],[0.5555555555555556,\"#d8576b\"],[0.6666666666666666,\"#ed7953\"],[0.7777777777777778,\"#fb9f3a\"],[0.8888888888888888,\"#fdca26\"],[1.0,\"#f0f921\"]]}],\"surface\":[{\"type\":\"surface\",\"colorbar\":{\"outlinewidth\":0,\"ticks\":\"\"},\"colorscale\":[[0.0,\"#0d0887\"],[0.1111111111111111,\"#46039f\"],[0.2222222222222222,\"#7201a8\"],[0.3333333333333333,\"#9c179e\"],[0.4444444444444444,\"#bd3786\"],[0.5555555555555556,\"#d8576b\"],[0.6666666666666666,\"#ed7953\"],[0.7777777777777778,\"#fb9f3a\"],[0.8888888888888888,\"#fdca26\"],[1.0,\"#f0f921\"]]}],\"mesh3d\":[{\"type\":\"mesh3d\",\"colorbar\":{\"outlinewidth\":0,\"ticks\":\"\"}}],\"scatter\":[{\"fillpattern\":{\"fillmode\":\"overlay\",\"size\":10,\"solidity\":0.2},\"type\":\"scatter\"}],\"parcoords\":[{\"type\":\"parcoords\",\"line\":{\"colorbar\":{\"outlinewidth\":0,\"ticks\":\"\"}}}],\"scatterpolargl\":[{\"type\":\"scatterpolargl\",\"marker\":{\"colorbar\":{\"outlinewidth\":0,\"ticks\":\"\"}}}],\"bar\":[{\"error_x\":{\"color\":\"#2a3f5f\"},\"error_y\":{\"color\":\"#2a3f5f\"},\"marker\":{\"line\":{\"color\":\"#E5ECF6\",\"width\":0.5},\"pattern\":{\"fillmode\":\"overlay\",\"size\":10,\"solidity\":0.2}},\"type\":\"bar\"}],\"scattergeo\":[{\"type\":\"scattergeo\",\"marker\":{\"colorbar\":{\"outlinewidth\":0,\"ticks\":\"\"}}}],\"scatterpolar\":[{\"type\":\"scatterpolar\",\"marker\":{\"colorbar\":{\"outlinewidth\":0,\"ticks\":\"\"}}}],\"histogram\":[{\"marker\":{\"pattern\":{\"fillmode\":\"overlay\",\"size\":10,\"solidity\":0.2}},\"type\":\"histogram\"}],\"scattergl\":[{\"type\":\"scattergl\",\"marker\":{\"colorbar\":{\"outlinewidth\":0,\"ticks\":\"\"}}}],\"scatter3d\":[{\"type\":\"scatter3d\",\"line\":{\"colorbar\":{\"outlinewidth\":0,\"ticks\":\"\"}},\"marker\":{\"colorbar\":{\"outlinewidth\":0,\"ticks\":\"\"}}}],\"scattermapbox\":[{\"type\":\"scattermapbox\",\"marker\":{\"colorbar\":{\"outlinewidth\":0,\"ticks\":\"\"}}}],\"scatterternary\":[{\"type\":\"scatterternary\",\"marker\":{\"colorbar\":{\"outlinewidth\":0,\"ticks\":\"\"}}}],\"scattercarpet\":[{\"type\":\"scattercarpet\",\"marker\":{\"colorbar\":{\"outlinewidth\":0,\"ticks\":\"\"}}}],\"carpet\":[{\"aaxis\":{\"endlinecolor\":\"#2a3f5f\",\"gridcolor\":\"white\",\"linecolor\":\"white\",\"minorgridcolor\":\"white\",\"startlinecolor\":\"#2a3f5f\"},\"baxis\":{\"endlinecolor\":\"#2a3f5f\",\"gridcolor\":\"white\",\"linecolor\":\"white\",\"minorgridcolor\":\"white\",\"startlinecolor\":\"#2a3f5f\"},\"type\":\"carpet\"}],\"table\":[{\"cells\":{\"fill\":{\"color\":\"#EBF0F8\"},\"line\":{\"color\":\"white\"}},\"header\":{\"fill\":{\"color\":\"#C8D4E3\"},\"line\":{\"color\":\"white\"}},\"type\":\"table\"}],\"barpolar\":[{\"marker\":{\"line\":{\"color\":\"#E5ECF6\",\"width\":0.5},\"pattern\":{\"fillmode\":\"overlay\",\"size\":10,\"solidity\":0.2}},\"type\":\"barpolar\"}],\"pie\":[{\"automargin\":true,\"type\":\"pie\"}]},\"layout\":{\"autotypenumbers\":\"strict\",\"colorway\":[\"#636efa\",\"#EF553B\",\"#00cc96\",\"#ab63fa\",\"#FFA15A\",\"#19d3f3\",\"#FF6692\",\"#B6E880\",\"#FF97FF\",\"#FECB52\"],\"font\":{\"color\":\"#2a3f5f\"},\"hovermode\":\"closest\",\"hoverlabel\":{\"align\":\"left\"},\"paper_bgcolor\":\"white\",\"plot_bgcolor\":\"#E5ECF6\",\"polar\":{\"bgcolor\":\"#E5ECF6\",\"angularaxis\":{\"gridcolor\":\"white\",\"linecolor\":\"white\",\"ticks\":\"\"},\"radialaxis\":{\"gridcolor\":\"white\",\"linecolor\":\"white\",\"ticks\":\"\"}},\"ternary\":{\"bgcolor\":\"#E5ECF6\",\"aaxis\":{\"gridcolor\":\"white\",\"linecolor\":\"white\",\"ticks\":\"\"},\"baxis\":{\"gridcolor\":\"white\",\"linecolor\":\"white\",\"ticks\":\"\"},\"caxis\":{\"gridcolor\":\"white\",\"linecolor\":\"white\",\"ticks\":\"\"}},\"coloraxis\":{\"colorbar\":{\"outlinewidth\":0,\"ticks\":\"\"}},\"colorscale\":{\"sequential\":[[0.0,\"#0d0887\"],[0.1111111111111111,\"#46039f\"],[0.2222222222222222,\"#7201a8\"],[0.3333333333333333,\"#9c179e\"],[0.4444444444444444,\"#bd3786\"],[0.5555555555555556,\"#d8576b\"],[0.6666666666666666,\"#ed7953\"],[0.7777777777777778,\"#fb9f3a\"],[0.8888888888888888,\"#fdca26\"],[1.0,\"#f0f921\"]],\"sequentialminus\":[[0.0,\"#0d0887\"],[0.1111111111111111,\"#46039f\"],[0.2222222222222222,\"#7201a8\"],[0.3333333333333333,\"#9c179e\"],[0.4444444444444444,\"#bd3786\"],[0.5555555555555556,\"#d8576b\"],[0.6666666666666666,\"#ed7953\"],[0.7777777777777778,\"#fb9f3a\"],[0.8888888888888888,\"#fdca26\"],[1.0,\"#f0f921\"]],\"diverging\":[[0,\"#8e0152\"],[0.1,\"#c51b7d\"],[0.2,\"#de77ae\"],[0.3,\"#f1b6da\"],[0.4,\"#fde0ef\"],[0.5,\"#f7f7f7\"],[0.6,\"#e6f5d0\"],[0.7,\"#b8e186\"],[0.8,\"#7fbc41\"],[0.9,\"#4d9221\"],[1,\"#276419\"]]},\"xaxis\":{\"gridcolor\":\"white\",\"linecolor\":\"white\",\"ticks\":\"\",\"title\":{\"standoff\":15},\"zerolinecolor\":\"white\",\"automargin\":true,\"zerolinewidth\":2},\"yaxis\":{\"gridcolor\":\"white\",\"linecolor\":\"white\",\"ticks\":\"\",\"title\":{\"standoff\":15},\"zerolinecolor\":\"white\",\"automargin\":true,\"zerolinewidth\":2},\"scene\":{\"xaxis\":{\"backgroundcolor\":\"#E5ECF6\",\"gridcolor\":\"white\",\"linecolor\":\"white\",\"showbackground\":true,\"ticks\":\"\",\"zerolinecolor\":\"white\",\"gridwidth\":2},\"yaxis\":{\"backgroundcolor\":\"#E5ECF6\",\"gridcolor\":\"white\",\"linecolor\":\"white\",\"showbackground\":true,\"ticks\":\"\",\"zerolinecolor\":\"white\",\"gridwidth\":2},\"zaxis\":{\"backgroundcolor\":\"#E5ECF6\",\"gridcolor\":\"white\",\"linecolor\":\"white\",\"showbackground\":true,\"ticks\":\"\",\"zerolinecolor\":\"white\",\"gridwidth\":2}},\"shapedefaults\":{\"line\":{\"color\":\"#2a3f5f\"}},\"annotationdefaults\":{\"arrowcolor\":\"#2a3f5f\",\"arrowhead\":0,\"arrowwidth\":1},\"geo\":{\"bgcolor\":\"white\",\"landcolor\":\"#E5ECF6\",\"subunitcolor\":\"white\",\"showland\":true,\"showlakes\":true,\"lakecolor\":\"white\"},\"title\":{\"x\":0.05},\"mapbox\":{\"style\":\"light\"}}},\"xaxis\":{\"anchor\":\"y\",\"domain\":[0.0,1.0],\"title\":{\"text\":\"Country\"},\"categoryorder\":\"array\",\"categoryarray\":[\"France\",\"Italy\",\"Morroco\",\"Cuba\",\"Poland\",\"Russia\",\"India\"]},\"yaxis\":{\"anchor\":\"x\",\"domain\":[0.0,1.0],\"title\":{\"text\":\"count\"}},\"legend\":{\"title\":{\"text\":\"Country\"},\"tracegroupgap\":0},\"margin\":{\"t\":60},\"barmode\":\"relative\"},                        {\"responsive\": true}                    ).then(function(){\n",
       "                            \n",
       "var gd = document.getElementById('18e25b20-6d43-4954-9b3e-2604b198a6e8');\n",
       "var x = new MutationObserver(function (mutations, observer) {{\n",
       "        var display = window.getComputedStyle(gd).display;\n",
       "        if (!display || display === 'none') {{\n",
       "            console.log([gd, 'removed!']);\n",
       "            Plotly.purge(gd);\n",
       "            observer.disconnect();\n",
       "        }}\n",
       "}});\n",
       "\n",
       "// Listen for the removal of the full notebook cells\n",
       "var notebookContainer = gd.closest('#notebook-container');\n",
       "if (notebookContainer) {{\n",
       "    x.observe(notebookContainer, {childList: true});\n",
       "}}\n",
       "\n",
       "// Listen for the clearing of the current output cell\n",
       "var outputEl = gd.closest('.output');\n",
       "if (outputEl) {{\n",
       "    x.observe(outputEl, {childList: true});\n",
       "}}\n",
       "\n",
       "                        })                };                });            </script>        </div>"
      ]
     },
     "metadata": {},
     "output_type": "display_data"
    }
   ],
   "source": [
    "# Count of Reviews given by countries\n",
    "\n",
    "fig = px.bar(df_country_countwise, x='Country', y='count', color = 'Country')\n",
    "fig.show()\n"
   ]
  },
  {
   "cell_type": "markdown",
   "id": "db87ad99",
   "metadata": {
    "papermill": {
     "duration": 0.012198,
     "end_time": "2024-07-11T05:47:52.615353",
     "exception": false,
     "start_time": "2024-07-11T05:47:52.603155",
     "status": "completed"
    },
    "tags": []
   },
   "source": [
    "Reviews given by France is maximum and reviews given by India is least."
   ]
  },
  {
   "cell_type": "code",
   "execution_count": null,
   "id": "5bdf2e68",
   "metadata": {
    "execution": {
     "iopub.execute_input": "2024-07-11T05:47:52.642326Z",
     "iopub.status.busy": "2024-07-11T05:47:52.641885Z",
     "iopub.status.idle": "2024-07-11T05:47:52.655958Z",
     "shell.execute_reply": "2024-07-11T05:47:52.654573Z"
    },
    "papermill": {
     "duration": 0.030552,
     "end_time": "2024-07-11T05:47:52.658573",
     "exception": false,
     "start_time": "2024-07-11T05:47:52.628021",
     "status": "completed"
    },
    "tags": []
   },
   "outputs": [
    {
     "data": {
      "text/html": [
       "<div>\n",
       "<style scoped>\n",
       "    .dataframe tbody tr th:only-of-type {\n",
       "        vertical-align: middle;\n",
       "    }\n",
       "\n",
       "    .dataframe tbody tr th {\n",
       "        vertical-align: top;\n",
       "    }\n",
       "\n",
       "    .dataframe thead th {\n",
       "        text-align: right;\n",
       "    }\n",
       "</style>\n",
       "<table border=\"1\" class=\"dataframe\">\n",
       "  <thead>\n",
       "    <tr style=\"text-align: right;\">\n",
       "      <th></th>\n",
       "      <th>Sentiment</th>\n",
       "      <th>count</th>\n",
       "    </tr>\n",
       "  </thead>\n",
       "  <tbody>\n",
       "    <tr>\n",
       "      <th>0</th>\n",
       "      <td>Positive</td>\n",
       "      <td>1237</td>\n",
       "    </tr>\n",
       "    <tr>\n",
       "      <th>1</th>\n",
       "      <td>Negative</td>\n",
       "      <td>265</td>\n",
       "    </tr>\n",
       "  </tbody>\n",
       "</table>\n",
       "</div>"
      ],
      "text/plain": [
       "  Sentiment  count\n",
       "0  Positive   1237\n",
       "1  Negative    265"
      ]
     },
     "execution_count": 13,
     "metadata": {},
     "output_type": "execute_result"
    }
   ],
   "source": [
    "sentiment_count = df['Sentiment'].value_counts()\n",
    "df_sentiment_count = sentiment_count.reset_index()\n",
    "df_sentiment_count"
   ]
  },
  {
   "cell_type": "code",
   "execution_count": null,
   "id": "5fad0943",
   "metadata": {
    "execution": {
     "iopub.execute_input": "2024-07-11T05:47:52.685444Z",
     "iopub.status.busy": "2024-07-11T05:47:52.684961Z",
     "iopub.status.idle": "2024-07-11T05:47:52.909409Z",
     "shell.execute_reply": "2024-07-11T05:47:52.908074Z"
    },
    "papermill": {
     "duration": 0.241176,
     "end_time": "2024-07-11T05:47:52.912076",
     "exception": false,
     "start_time": "2024-07-11T05:47:52.670900",
     "status": "completed"
    },
    "tags": []
   },
   "outputs": [
    {
     "data": {
      "text/html": [
       "<div>                            <div id=\"1c387f38-1312-4f4f-af33-371838951366\" class=\"plotly-graph-div\" style=\"height:525px; width:100%;\"></div>            <script type=\"text/javascript\">                require([\"plotly\"], function(Plotly) {                    window.PLOTLYENV=window.PLOTLYENV || {};                                    if (document.getElementById(\"1c387f38-1312-4f4f-af33-371838951366\")) {                    Plotly.newPlot(                        \"1c387f38-1312-4f4f-af33-371838951366\",                        [{\"customdata\":[[\"Positive\"],[\"Negative\"]],\"domain\":{\"x\":[0.0,1.0],\"y\":[0.0,1.0]},\"hovertemplate\":\"Sentiment=%{customdata[0]}\\u003cbr\\u003ecount=%{value}\\u003cextra\\u003e\\u003c\\u002fextra\\u003e\",\"labels\":[\"Positive\",\"Negative\"],\"legendgroup\":\"\",\"marker\":{\"colors\":[\"lightcyan\",\"cyan\"]},\"name\":\"\",\"showlegend\":true,\"values\":[1237,265],\"type\":\"pie\"}],                        {\"template\":{\"data\":{\"histogram2dcontour\":[{\"type\":\"histogram2dcontour\",\"colorbar\":{\"outlinewidth\":0,\"ticks\":\"\"},\"colorscale\":[[0.0,\"#0d0887\"],[0.1111111111111111,\"#46039f\"],[0.2222222222222222,\"#7201a8\"],[0.3333333333333333,\"#9c179e\"],[0.4444444444444444,\"#bd3786\"],[0.5555555555555556,\"#d8576b\"],[0.6666666666666666,\"#ed7953\"],[0.7777777777777778,\"#fb9f3a\"],[0.8888888888888888,\"#fdca26\"],[1.0,\"#f0f921\"]]}],\"choropleth\":[{\"type\":\"choropleth\",\"colorbar\":{\"outlinewidth\":0,\"ticks\":\"\"}}],\"histogram2d\":[{\"type\":\"histogram2d\",\"colorbar\":{\"outlinewidth\":0,\"ticks\":\"\"},\"colorscale\":[[0.0,\"#0d0887\"],[0.1111111111111111,\"#46039f\"],[0.2222222222222222,\"#7201a8\"],[0.3333333333333333,\"#9c179e\"],[0.4444444444444444,\"#bd3786\"],[0.5555555555555556,\"#d8576b\"],[0.6666666666666666,\"#ed7953\"],[0.7777777777777778,\"#fb9f3a\"],[0.8888888888888888,\"#fdca26\"],[1.0,\"#f0f921\"]]}],\"heatmap\":[{\"type\":\"heatmap\",\"colorbar\":{\"outlinewidth\":0,\"ticks\":\"\"},\"colorscale\":[[0.0,\"#0d0887\"],[0.1111111111111111,\"#46039f\"],[0.2222222222222222,\"#7201a8\"],[0.3333333333333333,\"#9c179e\"],[0.4444444444444444,\"#bd3786\"],[0.5555555555555556,\"#d8576b\"],[0.6666666666666666,\"#ed7953\"],[0.7777777777777778,\"#fb9f3a\"],[0.8888888888888888,\"#fdca26\"],[1.0,\"#f0f921\"]]}],\"heatmapgl\":[{\"type\":\"heatmapgl\",\"colorbar\":{\"outlinewidth\":0,\"ticks\":\"\"},\"colorscale\":[[0.0,\"#0d0887\"],[0.1111111111111111,\"#46039f\"],[0.2222222222222222,\"#7201a8\"],[0.3333333333333333,\"#9c179e\"],[0.4444444444444444,\"#bd3786\"],[0.5555555555555556,\"#d8576b\"],[0.6666666666666666,\"#ed7953\"],[0.7777777777777778,\"#fb9f3a\"],[0.8888888888888888,\"#fdca26\"],[1.0,\"#f0f921\"]]}],\"contourcarpet\":[{\"type\":\"contourcarpet\",\"colorbar\":{\"outlinewidth\":0,\"ticks\":\"\"}}],\"contour\":[{\"type\":\"contour\",\"colorbar\":{\"outlinewidth\":0,\"ticks\":\"\"},\"colorscale\":[[0.0,\"#0d0887\"],[0.1111111111111111,\"#46039f\"],[0.2222222222222222,\"#7201a8\"],[0.3333333333333333,\"#9c179e\"],[0.4444444444444444,\"#bd3786\"],[0.5555555555555556,\"#d8576b\"],[0.6666666666666666,\"#ed7953\"],[0.7777777777777778,\"#fb9f3a\"],[0.8888888888888888,\"#fdca26\"],[1.0,\"#f0f921\"]]}],\"surface\":[{\"type\":\"surface\",\"colorbar\":{\"outlinewidth\":0,\"ticks\":\"\"},\"colorscale\":[[0.0,\"#0d0887\"],[0.1111111111111111,\"#46039f\"],[0.2222222222222222,\"#7201a8\"],[0.3333333333333333,\"#9c179e\"],[0.4444444444444444,\"#bd3786\"],[0.5555555555555556,\"#d8576b\"],[0.6666666666666666,\"#ed7953\"],[0.7777777777777778,\"#fb9f3a\"],[0.8888888888888888,\"#fdca26\"],[1.0,\"#f0f921\"]]}],\"mesh3d\":[{\"type\":\"mesh3d\",\"colorbar\":{\"outlinewidth\":0,\"ticks\":\"\"}}],\"scatter\":[{\"fillpattern\":{\"fillmode\":\"overlay\",\"size\":10,\"solidity\":0.2},\"type\":\"scatter\"}],\"parcoords\":[{\"type\":\"parcoords\",\"line\":{\"colorbar\":{\"outlinewidth\":0,\"ticks\":\"\"}}}],\"scatterpolargl\":[{\"type\":\"scatterpolargl\",\"marker\":{\"colorbar\":{\"outlinewidth\":0,\"ticks\":\"\"}}}],\"bar\":[{\"error_x\":{\"color\":\"#2a3f5f\"},\"error_y\":{\"color\":\"#2a3f5f\"},\"marker\":{\"line\":{\"color\":\"#E5ECF6\",\"width\":0.5},\"pattern\":{\"fillmode\":\"overlay\",\"size\":10,\"solidity\":0.2}},\"type\":\"bar\"}],\"scattergeo\":[{\"type\":\"scattergeo\",\"marker\":{\"colorbar\":{\"outlinewidth\":0,\"ticks\":\"\"}}}],\"scatterpolar\":[{\"type\":\"scatterpolar\",\"marker\":{\"colorbar\":{\"outlinewidth\":0,\"ticks\":\"\"}}}],\"histogram\":[{\"marker\":{\"pattern\":{\"fillmode\":\"overlay\",\"size\":10,\"solidity\":0.2}},\"type\":\"histogram\"}],\"scattergl\":[{\"type\":\"scattergl\",\"marker\":{\"colorbar\":{\"outlinewidth\":0,\"ticks\":\"\"}}}],\"scatter3d\":[{\"type\":\"scatter3d\",\"line\":{\"colorbar\":{\"outlinewidth\":0,\"ticks\":\"\"}},\"marker\":{\"colorbar\":{\"outlinewidth\":0,\"ticks\":\"\"}}}],\"scattermapbox\":[{\"type\":\"scattermapbox\",\"marker\":{\"colorbar\":{\"outlinewidth\":0,\"ticks\":\"\"}}}],\"scatterternary\":[{\"type\":\"scatterternary\",\"marker\":{\"colorbar\":{\"outlinewidth\":0,\"ticks\":\"\"}}}],\"scattercarpet\":[{\"type\":\"scattercarpet\",\"marker\":{\"colorbar\":{\"outlinewidth\":0,\"ticks\":\"\"}}}],\"carpet\":[{\"aaxis\":{\"endlinecolor\":\"#2a3f5f\",\"gridcolor\":\"white\",\"linecolor\":\"white\",\"minorgridcolor\":\"white\",\"startlinecolor\":\"#2a3f5f\"},\"baxis\":{\"endlinecolor\":\"#2a3f5f\",\"gridcolor\":\"white\",\"linecolor\":\"white\",\"minorgridcolor\":\"white\",\"startlinecolor\":\"#2a3f5f\"},\"type\":\"carpet\"}],\"table\":[{\"cells\":{\"fill\":{\"color\":\"#EBF0F8\"},\"line\":{\"color\":\"white\"}},\"header\":{\"fill\":{\"color\":\"#C8D4E3\"},\"line\":{\"color\":\"white\"}},\"type\":\"table\"}],\"barpolar\":[{\"marker\":{\"line\":{\"color\":\"#E5ECF6\",\"width\":0.5},\"pattern\":{\"fillmode\":\"overlay\",\"size\":10,\"solidity\":0.2}},\"type\":\"barpolar\"}],\"pie\":[{\"automargin\":true,\"type\":\"pie\"}]},\"layout\":{\"autotypenumbers\":\"strict\",\"colorway\":[\"#636efa\",\"#EF553B\",\"#00cc96\",\"#ab63fa\",\"#FFA15A\",\"#19d3f3\",\"#FF6692\",\"#B6E880\",\"#FF97FF\",\"#FECB52\"],\"font\":{\"color\":\"#2a3f5f\"},\"hovermode\":\"closest\",\"hoverlabel\":{\"align\":\"left\"},\"paper_bgcolor\":\"white\",\"plot_bgcolor\":\"#E5ECF6\",\"polar\":{\"bgcolor\":\"#E5ECF6\",\"angularaxis\":{\"gridcolor\":\"white\",\"linecolor\":\"white\",\"ticks\":\"\"},\"radialaxis\":{\"gridcolor\":\"white\",\"linecolor\":\"white\",\"ticks\":\"\"}},\"ternary\":{\"bgcolor\":\"#E5ECF6\",\"aaxis\":{\"gridcolor\":\"white\",\"linecolor\":\"white\",\"ticks\":\"\"},\"baxis\":{\"gridcolor\":\"white\",\"linecolor\":\"white\",\"ticks\":\"\"},\"caxis\":{\"gridcolor\":\"white\",\"linecolor\":\"white\",\"ticks\":\"\"}},\"coloraxis\":{\"colorbar\":{\"outlinewidth\":0,\"ticks\":\"\"}},\"colorscale\":{\"sequential\":[[0.0,\"#0d0887\"],[0.1111111111111111,\"#46039f\"],[0.2222222222222222,\"#7201a8\"],[0.3333333333333333,\"#9c179e\"],[0.4444444444444444,\"#bd3786\"],[0.5555555555555556,\"#d8576b\"],[0.6666666666666666,\"#ed7953\"],[0.7777777777777778,\"#fb9f3a\"],[0.8888888888888888,\"#fdca26\"],[1.0,\"#f0f921\"]],\"sequentialminus\":[[0.0,\"#0d0887\"],[0.1111111111111111,\"#46039f\"],[0.2222222222222222,\"#7201a8\"],[0.3333333333333333,\"#9c179e\"],[0.4444444444444444,\"#bd3786\"],[0.5555555555555556,\"#d8576b\"],[0.6666666666666666,\"#ed7953\"],[0.7777777777777778,\"#fb9f3a\"],[0.8888888888888888,\"#fdca26\"],[1.0,\"#f0f921\"]],\"diverging\":[[0,\"#8e0152\"],[0.1,\"#c51b7d\"],[0.2,\"#de77ae\"],[0.3,\"#f1b6da\"],[0.4,\"#fde0ef\"],[0.5,\"#f7f7f7\"],[0.6,\"#e6f5d0\"],[0.7,\"#b8e186\"],[0.8,\"#7fbc41\"],[0.9,\"#4d9221\"],[1,\"#276419\"]]},\"xaxis\":{\"gridcolor\":\"white\",\"linecolor\":\"white\",\"ticks\":\"\",\"title\":{\"standoff\":15},\"zerolinecolor\":\"white\",\"automargin\":true,\"zerolinewidth\":2},\"yaxis\":{\"gridcolor\":\"white\",\"linecolor\":\"white\",\"ticks\":\"\",\"title\":{\"standoff\":15},\"zerolinecolor\":\"white\",\"automargin\":true,\"zerolinewidth\":2},\"scene\":{\"xaxis\":{\"backgroundcolor\":\"#E5ECF6\",\"gridcolor\":\"white\",\"linecolor\":\"white\",\"showbackground\":true,\"ticks\":\"\",\"zerolinecolor\":\"white\",\"gridwidth\":2},\"yaxis\":{\"backgroundcolor\":\"#E5ECF6\",\"gridcolor\":\"white\",\"linecolor\":\"white\",\"showbackground\":true,\"ticks\":\"\",\"zerolinecolor\":\"white\",\"gridwidth\":2},\"zaxis\":{\"backgroundcolor\":\"#E5ECF6\",\"gridcolor\":\"white\",\"linecolor\":\"white\",\"showbackground\":true,\"ticks\":\"\",\"zerolinecolor\":\"white\",\"gridwidth\":2}},\"shapedefaults\":{\"line\":{\"color\":\"#2a3f5f\"}},\"annotationdefaults\":{\"arrowcolor\":\"#2a3f5f\",\"arrowhead\":0,\"arrowwidth\":1},\"geo\":{\"bgcolor\":\"white\",\"landcolor\":\"#E5ECF6\",\"subunitcolor\":\"white\",\"showland\":true,\"showlakes\":true,\"lakecolor\":\"white\"},\"title\":{\"x\":0.05},\"mapbox\":{\"style\":\"light\"}}},\"legend\":{\"tracegroupgap\":0},\"margin\":{\"t\":60}},                        {\"responsive\": true}                    ).then(function(){\n",
       "                            \n",
       "var gd = document.getElementById('1c387f38-1312-4f4f-af33-371838951366');\n",
       "var x = new MutationObserver(function (mutations, observer) {{\n",
       "        var display = window.getComputedStyle(gd).display;\n",
       "        if (!display || display === 'none') {{\n",
       "            console.log([gd, 'removed!']);\n",
       "            Plotly.purge(gd);\n",
       "            observer.disconnect();\n",
       "        }}\n",
       "}});\n",
       "\n",
       "// Listen for the removal of the full notebook cells\n",
       "var notebookContainer = gd.closest('#notebook-container');\n",
       "if (notebookContainer) {{\n",
       "    x.observe(notebookContainer, {childList: true});\n",
       "}}\n",
       "\n",
       "// Listen for the clearing of the current output cell\n",
       "var outputEl = gd.closest('.output');\n",
       "if (outputEl) {{\n",
       "    x.observe(outputEl, {childList: true});\n",
       "}}\n",
       "\n",
       "                        })                };                });            </script>        </div>"
      ]
     },
     "metadata": {},
     "output_type": "display_data"
    }
   ],
   "source": [
    "# Analysis of sentiments\n",
    "\n",
    "fig = px.pie(df_sentiment_count, values='count', names='Sentiment',color = 'Sentiment',color_discrete_map = {'Positive':'lightcyan','Negative':'cyan'})\n",
    "fig.show()"
   ]
  },
  {
   "cell_type": "markdown",
   "id": "1a5fd944",
   "metadata": {
    "papermill": {
     "duration": 0.012191,
     "end_time": "2024-07-11T05:47:52.936581",
     "exception": false,
     "start_time": "2024-07-11T05:47:52.924390",
     "status": "completed"
    },
    "tags": []
   },
   "source": [
    "As compared to Negative sentiments, Positive sentiments are in majority among reviews."
   ]
  },
  {
   "cell_type": "code",
   "execution_count": null,
   "id": "0cc9ff08",
   "metadata": {
    "execution": {
     "iopub.execute_input": "2024-07-11T05:47:52.963585Z",
     "iopub.status.busy": "2024-07-11T05:47:52.963147Z",
     "iopub.status.idle": "2024-07-11T05:47:52.971083Z",
     "shell.execute_reply": "2024-07-11T05:47:52.969974Z"
    },
    "papermill": {
     "duration": 0.024242,
     "end_time": "2024-07-11T05:47:52.973413",
     "exception": false,
     "start_time": "2024-07-11T05:47:52.949171",
     "status": "completed"
    },
    "tags": []
   },
   "outputs": [
    {
     "data": {
      "text/plain": [
       "array(['The Frog at Bercy Village',\n",
       "       'Ad Hoc Ristorante (Piazza del Popolo)', 'Stara Kamienica',\n",
       "       'Mosaic', 'Pelmenya', 'The LOFT', 'Old Square (Plaza Vieja)'],\n",
       "      dtype=object)"
      ]
     },
     "execution_count": 15,
     "metadata": {},
     "output_type": "execute_result"
    }
   ],
   "source": [
    "df['Restaurant Name'].unique()"
   ]
  },
  {
   "cell_type": "code",
   "execution_count": null,
   "id": "0daacea2",
   "metadata": {
    "execution": {
     "iopub.execute_input": "2024-07-11T05:47:53.000506Z",
     "iopub.status.busy": "2024-07-11T05:47:53.000083Z",
     "iopub.status.idle": "2024-07-11T05:47:53.013902Z",
     "shell.execute_reply": "2024-07-11T05:47:53.012473Z"
    },
    "papermill": {
     "duration": 0.031913,
     "end_time": "2024-07-11T05:47:53.017972",
     "exception": false,
     "start_time": "2024-07-11T05:47:52.986059",
     "status": "completed"
    },
    "tags": []
   },
   "outputs": [
    {
     "data": {
      "text/plain": [
       "Restaurant Name                      \n",
       "The Frog at Bercy Village                512\n",
       "Ad Hoc Ristorante (Piazza del Popolo)    318\n",
       "The LOFT                                 210\n",
       "Old Square (Plaza Vieja)                 146\n",
       "Stara Kamienica                          135\n",
       "Pelmenya                                 100\n",
       "Mosaic                                    81\n",
       "Name: count, dtype: int64"
      ]
     },
     "execution_count": 16,
     "metadata": {},
     "output_type": "execute_result"
    }
   ],
   "source": [
    "restaurant_count_of_country = df[['Restaurant Name']].value_counts()\n",
    "restaurant_count_of_country"
   ]
  },
  {
   "cell_type": "code",
   "execution_count": null,
   "id": "cb4e650b",
   "metadata": {
    "execution": {
     "iopub.execute_input": "2024-07-11T05:47:53.046234Z",
     "iopub.status.busy": "2024-07-11T05:47:53.045820Z",
     "iopub.status.idle": "2024-07-11T05:47:53.071940Z",
     "shell.execute_reply": "2024-07-11T05:47:53.070615Z"
    },
    "papermill": {
     "duration": 0.043465,
     "end_time": "2024-07-11T05:47:53.074599",
     "exception": false,
     "start_time": "2024-07-11T05:47:53.031134",
     "status": "completed"
    },
    "tags": []
   },
   "outputs": [
    {
     "data": {
      "text/html": [
       "<div>\n",
       "<style scoped>\n",
       "    .dataframe tbody tr th:only-of-type {\n",
       "        vertical-align: middle;\n",
       "    }\n",
       "\n",
       "    .dataframe tbody tr th {\n",
       "        vertical-align: top;\n",
       "    }\n",
       "\n",
       "    .dataframe thead th {\n",
       "        text-align: right;\n",
       "    }\n",
       "</style>\n",
       "<table border=\"1\" class=\"dataframe\">\n",
       "  <thead>\n",
       "    <tr style=\"text-align: right;\">\n",
       "      <th></th>\n",
       "      <th>Country</th>\n",
       "      <th>Restaurant Name</th>\n",
       "      <th>count</th>\n",
       "    </tr>\n",
       "  </thead>\n",
       "  <tbody>\n",
       "    <tr>\n",
       "      <th>0</th>\n",
       "      <td>Cuba</td>\n",
       "      <td>Old Square (Plaza Vieja)</td>\n",
       "      <td>146</td>\n",
       "    </tr>\n",
       "    <tr>\n",
       "      <th>1</th>\n",
       "      <td>France</td>\n",
       "      <td>The Frog at Bercy Village</td>\n",
       "      <td>512</td>\n",
       "    </tr>\n",
       "    <tr>\n",
       "      <th>2</th>\n",
       "      <td>India</td>\n",
       "      <td>Mosaic</td>\n",
       "      <td>81</td>\n",
       "    </tr>\n",
       "    <tr>\n",
       "      <th>3</th>\n",
       "      <td>Italy</td>\n",
       "      <td>Ad Hoc Ristorante (Piazza del Popolo)</td>\n",
       "      <td>318</td>\n",
       "    </tr>\n",
       "    <tr>\n",
       "      <th>4</th>\n",
       "      <td>Morroco</td>\n",
       "      <td>The LOFT</td>\n",
       "      <td>210</td>\n",
       "    </tr>\n",
       "    <tr>\n",
       "      <th>5</th>\n",
       "      <td>Poland</td>\n",
       "      <td>Stara Kamienica</td>\n",
       "      <td>135</td>\n",
       "    </tr>\n",
       "    <tr>\n",
       "      <th>6</th>\n",
       "      <td>Russia</td>\n",
       "      <td>Pelmenya</td>\n",
       "      <td>100</td>\n",
       "    </tr>\n",
       "  </tbody>\n",
       "</table>\n",
       "</div>"
      ],
      "text/plain": [
       "   Country                        Restaurant Name  count\n",
       "0     Cuba               Old Square (Plaza Vieja)    146\n",
       "1   France              The Frog at Bercy Village    512\n",
       "2    India                                 Mosaic     81\n",
       "3    Italy  Ad Hoc Ristorante (Piazza del Popolo)    318\n",
       "4  Morroco                               The LOFT    210\n",
       "5   Poland                        Stara Kamienica    135\n",
       "6   Russia                               Pelmenya    100"
      ]
     },
     "execution_count": 17,
     "metadata": {},
     "output_type": "execute_result"
    }
   ],
   "source": [
    "# Restaurant Names in different countries\n",
    "\n",
    "Restaurants_in_countries =  df.groupby('Country')[['Restaurant Name']].value_counts().reset_index()\n",
    "Restaurants_in_countries"
   ]
  },
  {
   "cell_type": "code",
   "execution_count": null,
   "id": "b38f11db",
   "metadata": {
    "execution": {
     "iopub.execute_input": "2024-07-11T05:47:53.103131Z",
     "iopub.status.busy": "2024-07-11T05:47:53.102620Z",
     "iopub.status.idle": "2024-07-11T05:47:53.112948Z",
     "shell.execute_reply": "2024-07-11T05:47:53.111861Z"
    },
    "papermill": {
     "duration": 0.027877,
     "end_time": "2024-07-11T05:47:53.115771",
     "exception": false,
     "start_time": "2024-07-11T05:47:53.087894",
     "status": "completed"
    },
    "tags": []
   },
   "outputs": [
    {
     "data": {
      "text/plain": [
       "Sentiment\n",
       "Positive    109\n",
       "Negative     37\n",
       "Name: count, dtype: int64"
      ]
     },
     "execution_count": 18,
     "metadata": {},
     "output_type": "execute_result"
    }
   ],
   "source": [
    "# Restaurant vs Review Sentiments\n",
    "\n",
    "#1.Restaurant = 'Old Square (Plaza Vieja)'\n",
    "\n",
    "Oldsquare = df[(df['Restaurant Name']== 'Old Square (Plaza Vieja)')]\n",
    "Oldsquare['Sentiment'].value_counts()"
   ]
  },
  {
   "cell_type": "markdown",
   "id": "b194bb53",
   "metadata": {
    "papermill": {
     "duration": 0.013151,
     "end_time": "2024-07-11T05:47:53.142304",
     "exception": false,
     "start_time": "2024-07-11T05:47:53.129153",
     "status": "completed"
    },
    "tags": []
   },
   "source": [
    "Restaurant \"Old Square (Plaza Vieja)\" got almost 75% positive sentiment reviews and 25% negative sentiment reviews."
   ]
  },
  {
   "cell_type": "code",
   "execution_count": null,
   "id": "6445b079",
   "metadata": {
    "execution": {
     "iopub.execute_input": "2024-07-11T05:47:53.170835Z",
     "iopub.status.busy": "2024-07-11T05:47:53.170407Z",
     "iopub.status.idle": "2024-07-11T05:47:53.181324Z",
     "shell.execute_reply": "2024-07-11T05:47:53.180176Z"
    },
    "papermill": {
     "duration": 0.028105,
     "end_time": "2024-07-11T05:47:53.183757",
     "exception": false,
     "start_time": "2024-07-11T05:47:53.155652",
     "status": "completed"
    },
    "tags": []
   },
   "outputs": [
    {
     "data": {
      "text/plain": [
       "Sentiment\n",
       "Positive    360\n",
       "Negative    152\n",
       "Name: count, dtype: int64"
      ]
     },
     "execution_count": 19,
     "metadata": {},
     "output_type": "execute_result"
    }
   ],
   "source": [
    "#2.Restaurant = 'The Frog at Bercy Village'\n",
    "\n",
    "TheFrogatBercyVillage = df[(df['Restaurant Name']== 'The Frog at Bercy Village')]\n",
    "TheFrogatBercyVillage['Sentiment'].value_counts()"
   ]
  },
  {
   "cell_type": "markdown",
   "id": "2f090e11",
   "metadata": {
    "papermill": {
     "duration": 0.01377,
     "end_time": "2024-07-11T05:47:53.211120",
     "exception": false,
     "start_time": "2024-07-11T05:47:53.197350",
     "status": "completed"
    },
    "tags": []
   },
   "source": [
    "Restaurant got 30% negative sentiment reviews and 70% positive sentiment reviews."
   ]
  },
  {
   "cell_type": "code",
   "execution_count": null,
   "id": "4a3253ac",
   "metadata": {
    "execution": {
     "iopub.execute_input": "2024-07-11T05:47:53.240754Z",
     "iopub.status.busy": "2024-07-11T05:47:53.240304Z",
     "iopub.status.idle": "2024-07-11T05:47:53.251301Z",
     "shell.execute_reply": "2024-07-11T05:47:53.249791Z"
    },
    "papermill": {
     "duration": 0.028858,
     "end_time": "2024-07-11T05:47:53.253787",
     "exception": false,
     "start_time": "2024-07-11T05:47:53.224929",
     "status": "completed"
    },
    "tags": []
   },
   "outputs": [
    {
     "data": {
      "text/plain": [
       "Sentiment\n",
       "Positive    81\n",
       "Name: count, dtype: int64"
      ]
     },
     "execution_count": 20,
     "metadata": {},
     "output_type": "execute_result"
    }
   ],
   "source": [
    "#3.Restaurant = 'Mosaic'\n",
    "\n",
    "Mosaic = df[(df['Restaurant Name']== 'Mosaic')]\n",
    "Mosaic['Sentiment'].value_counts()"
   ]
  },
  {
   "cell_type": "markdown",
   "id": "0ccc2c00",
   "metadata": {
    "papermill": {
     "duration": 0.014445,
     "end_time": "2024-07-11T05:47:53.282500",
     "exception": false,
     "start_time": "2024-07-11T05:47:53.268055",
     "status": "completed"
    },
    "tags": []
   },
   "source": [
    "Restaurant 'Mosaic' got only positive sentiment review"
   ]
  },
  {
   "cell_type": "code",
   "execution_count": null,
   "id": "d75e8445",
   "metadata": {
    "execution": {
     "iopub.execute_input": "2024-07-11T05:47:53.312277Z",
     "iopub.status.busy": "2024-07-11T05:47:53.311886Z",
     "iopub.status.idle": "2024-07-11T05:47:53.321968Z",
     "shell.execute_reply": "2024-07-11T05:47:53.320752Z"
    },
    "papermill": {
     "duration": 0.028095,
     "end_time": "2024-07-11T05:47:53.324421",
     "exception": false,
     "start_time": "2024-07-11T05:47:53.296326",
     "status": "completed"
    },
    "tags": []
   },
   "outputs": [
    {
     "data": {
      "text/plain": [
       "Series([], Name: count, dtype: int64)"
      ]
     },
     "execution_count": 21,
     "metadata": {},
     "output_type": "execute_result"
    }
   ],
   "source": [
    "#4.Restaurant = 'Ad Hoc Ristorante (Piazza del Popolo)'\n",
    "\n",
    "AdHocRistorante = df[(df['Restaurant Name']== 'AdHocRistorante')]\n",
    "AdHocRistorante['Sentiment'].value_counts()"
   ]
  },
  {
   "cell_type": "markdown",
   "id": "72829b28",
   "metadata": {
    "papermill": {
     "duration": 0.013987,
     "end_time": "2024-07-11T05:47:53.352611",
     "exception": false,
     "start_time": "2024-07-11T05:47:53.338624",
     "status": "completed"
    },
    "tags": []
   },
   "source": [
    "This restaurant got neither positive nor negative sentiment review."
   ]
  },
  {
   "cell_type": "code",
   "execution_count": null,
   "id": "f4e87d7b",
   "metadata": {
    "execution": {
     "iopub.execute_input": "2024-07-11T05:47:53.383296Z",
     "iopub.status.busy": "2024-07-11T05:47:53.382889Z",
     "iopub.status.idle": "2024-07-11T05:47:53.394789Z",
     "shell.execute_reply": "2024-07-11T05:47:53.393524Z"
    },
    "papermill": {
     "duration": 0.030739,
     "end_time": "2024-07-11T05:47:53.397352",
     "exception": false,
     "start_time": "2024-07-11T05:47:53.366613",
     "status": "completed"
    },
    "tags": []
   },
   "outputs": [
    {
     "data": {
      "text/plain": [
       "Sentiment\n",
       "Positive    207\n",
       "Negative      3\n",
       "Name: count, dtype: int64"
      ]
     },
     "execution_count": 22,
     "metadata": {},
     "output_type": "execute_result"
    }
   ],
   "source": [
    "#5.Restaurant = 'The LOFT'\n",
    "\n",
    "TheLOFT = df[(df['Restaurant Name']== 'The LOFT')]\n",
    "TheLOFT['Sentiment'].value_counts()"
   ]
  },
  {
   "cell_type": "markdown",
   "id": "1da64baa",
   "metadata": {
    "papermill": {
     "duration": 0.014149,
     "end_time": "2024-07-11T05:47:53.426584",
     "exception": false,
     "start_time": "2024-07-11T05:47:53.412435",
     "status": "completed"
    },
    "tags": []
   },
   "source": [
    "Restaurant 'The LOFT' got 207 positive sentiment review and only 3 negative sentiment review."
   ]
  },
  {
   "cell_type": "code",
   "execution_count": null,
   "id": "6c63c097",
   "metadata": {
    "execution": {
     "iopub.execute_input": "2024-07-11T05:47:53.457632Z",
     "iopub.status.busy": "2024-07-11T05:47:53.456658Z",
     "iopub.status.idle": "2024-07-11T05:47:53.467242Z",
     "shell.execute_reply": "2024-07-11T05:47:53.465997Z"
    },
    "papermill": {
     "duration": 0.028828,
     "end_time": "2024-07-11T05:47:53.469743",
     "exception": false,
     "start_time": "2024-07-11T05:47:53.440915",
     "status": "completed"
    },
    "tags": []
   },
   "outputs": [
    {
     "data": {
      "text/plain": [
       "Sentiment\n",
       "Positive    120\n",
       "Negative     15\n",
       "Name: count, dtype: int64"
      ]
     },
     "execution_count": 23,
     "metadata": {},
     "output_type": "execute_result"
    }
   ],
   "source": [
    "#6.Restaurant = 'Stara Kamienica'\n",
    "\n",
    "StaraKamienica = df[(df['Restaurant Name']== 'Stara Kamienica')]\n",
    "StaraKamienica['Sentiment'].value_counts()"
   ]
  },
  {
   "cell_type": "markdown",
   "id": "7ddc4d4f",
   "metadata": {
    "papermill": {
     "duration": 0.014632,
     "end_time": "2024-07-11T05:47:53.499177",
     "exception": false,
     "start_time": "2024-07-11T05:47:53.484545",
     "status": "completed"
    },
    "tags": []
   },
   "source": [
    "Restaurant 'Stara Kamienica' got 89% positive sentiment review and 11% negtive sentiment review."
   ]
  },
  {
   "cell_type": "code",
   "execution_count": null,
   "id": "fe1a5232",
   "metadata": {
    "execution": {
     "iopub.execute_input": "2024-07-11T05:47:53.530646Z",
     "iopub.status.busy": "2024-07-11T05:47:53.530218Z",
     "iopub.status.idle": "2024-07-11T05:47:53.541238Z",
     "shell.execute_reply": "2024-07-11T05:47:53.539896Z"
    },
    "papermill": {
     "duration": 0.029736,
     "end_time": "2024-07-11T05:47:53.543758",
     "exception": false,
     "start_time": "2024-07-11T05:47:53.514022",
     "status": "completed"
    },
    "tags": []
   },
   "outputs": [
    {
     "data": {
      "text/plain": [
       "Sentiment\n",
       "Positive    90\n",
       "Negative    10\n",
       "Name: count, dtype: int64"
      ]
     },
     "execution_count": 24,
     "metadata": {},
     "output_type": "execute_result"
    }
   ],
   "source": [
    "#7.Restaurant = 'Pelmenya'\n",
    "\n",
    "Pelmenya = df[(df['Restaurant Name']== 'Pelmenya')]\n",
    "Pelmenya['Sentiment'].value_counts()"
   ]
  },
  {
   "cell_type": "markdown",
   "id": "c0dacbf1",
   "metadata": {
    "papermill": {
     "duration": 0.014799,
     "end_time": "2024-07-11T05:47:53.573469",
     "exception": false,
     "start_time": "2024-07-11T05:47:53.558670",
     "status": "completed"
    },
    "tags": []
   },
   "source": [
    "Restaurant 'Pelmenya' got 90% positive sentiment review and 10% negative sentiment review."
   ]
  },
  {
   "cell_type": "markdown",
   "id": "766617ec",
   "metadata": {
    "papermill": {
     "duration": 0.014665,
     "end_time": "2024-07-11T05:47:53.602985",
     "exception": false,
     "start_time": "2024-07-11T05:47:53.588320",
     "status": "completed"
    },
    "tags": []
   },
   "source": [
    "Analysis : As per the above anlaysis of restaurants based on sentiments, we can say that 'Mosaic' is the best restaurant as it has inky positive sentiment reviews."
   ]
  }
 ],
 "metadata": {
  "kaggle": {
   "accelerator": "none",
   "dataSources": [
    {
     "datasetId": 5357234,
     "sourceId": 8913824,
     "sourceType": "datasetVersion"
    }
   ],
   "dockerImageVersionId": 30732,
   "isGpuEnabled": false,
   "isInternetEnabled": true,
   "language": "python",
   "sourceType": "notebook"
  },
  "kernelspec": {
   "display_name": "Python 3",
   "language": "python",
   "name": "python3"
  },
  "language_info": {
   "codemirror_mode": {
    "name": "ipython",
    "version": 3
   },
   "file_extension": ".py",
   "mimetype": "text/x-python",
   "name": "python",
   "nbconvert_exporter": "python",
   "pygments_lexer": "ipython3",
   "version": "3.9.6"
  },
  "papermill": {
   "default_parameters": {},
   "duration": 11.978459,
   "end_time": "2024-07-11T05:47:54.341071",
   "environment_variables": {},
   "exception": null,
   "input_path": "__notebook__.ipynb",
   "output_path": "__notebook__.ipynb",
   "parameters": {},
   "start_time": "2024-07-11T05:47:42.362612",
   "version": "2.5.0"
  }
 },
 "nbformat": 4,
 "nbformat_minor": 5
}
